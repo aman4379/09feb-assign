{
 "cells": [
  {
   "cell_type": "markdown",
   "id": "2be6342e-505f-42cf-88c6-ffd2f179351b",
   "metadata": {},
   "source": [
    "Q1. Create a vehicle class with an init method having instance variables as name_of_vehicle, max_speed\n",
    "and average_of_vehicle."
   ]
  },
  {
   "cell_type": "code",
   "execution_count": 53,
   "id": "a8edf9fd-a401-489f-9a38-7c79cb28c730",
   "metadata": {},
   "outputs": [],
   "source": [
    "class vehicle:\n",
    "    def __init__(self, name_of_vehicle, max_speed,average_of_vehicle):\n",
    "        self.name_of_vehicle = name_of_vehicle\n",
    "        self.max_speed = max_speed\n",
    "        self.average_of_vehicle = average_of_vehicle\n",
    "        #return (self,name_of_vehicle,max_speed,average_of_vehicle)"
   ]
  },
  {
   "cell_type": "code",
   "execution_count": 67,
   "id": "2856cf3b-5125-4eff-b757-95b24f02072f",
   "metadata": {},
   "outputs": [],
   "source": [
    "obj = vehicle('figo',120,25)"
   ]
  },
  {
   "cell_type": "code",
   "execution_count": 68,
   "id": "8c2049ed-88ed-41c4-9efb-c64e9435ddb2",
   "metadata": {},
   "outputs": [
    {
     "data": {
      "text/plain": [
       "'figo'"
      ]
     },
     "execution_count": 68,
     "metadata": {},
     "output_type": "execute_result"
    }
   ],
   "source": [
    "obj.name_of_vehicle"
   ]
  },
  {
   "cell_type": "markdown",
   "id": "20c6dd08-2525-4d06-b21a-0e996540d9ce",
   "metadata": {},
   "source": [
    "Q2. Create a child class car from the vehicle class created in Que 1, which will inherit the vehicle class.\n",
    "Create a method named seating_capacity which takes capacity as an argument and returns the name of\n",
    "the vehicle and its seating capacity."
   ]
  },
  {
   "cell_type": "code",
   "execution_count": 95,
   "id": "7b1a2ef2-56be-4da0-8605-b47ba526db35",
   "metadata": {},
   "outputs": [],
   "source": [
    "class car(vehicle):\n",
    "    capacity\n",
    "    def seating_capacity(self,capacity):\n",
    "        return(capacity,self.name_of_vehicle,)"
   ]
  },
  {
   "cell_type": "code",
   "execution_count": 96,
   "id": "705392da-af5c-4d1a-9d67-e0d35c755765",
   "metadata": {},
   "outputs": [],
   "source": [
    "car1 = car('figo',180,30)"
   ]
  },
  {
   "cell_type": "code",
   "execution_count": 97,
   "id": "6457efc0-6f46-4891-b2b7-0bd939424ea4",
   "metadata": {},
   "outputs": [
    {
     "data": {
      "text/plain": [
       "(5, 'figo')"
      ]
     },
     "execution_count": 97,
     "metadata": {},
     "output_type": "execute_result"
    }
   ],
   "source": [
    "car1.seating_capacity(5)"
   ]
  },
  {
   "cell_type": "markdown",
   "id": "1d565487-c4e6-48bd-b0c6-b9a1155074f1",
   "metadata": {},
   "source": [
    "Q3. What is multiple inheritance? Write a python code to demonstrate multiple inheritance."
   ]
  },
  {
   "cell_type": "code",
   "execution_count": null,
   "id": "cccce243-c235-4fea-afdc-64ca30bdd257",
   "metadata": {},
   "outputs": [],
   "source": [
    "Ans. When a class is derived from more than one base class it is called multiple Inheritance. The derived \n",
    "     class inherits all the features of the base case."
   ]
  },
  {
   "cell_type": "code",
   "execution_count": 98,
   "id": "9dceb608-4cda-4c0e-b583-357323baa099",
   "metadata": {},
   "outputs": [],
   "source": [
    "class plant:\n",
    "    def eat(self):\n",
    "        print('plants take food from sunlight')\n",
    "class animal:\n",
    "    def food(self):\n",
    "        print('animal take food from plants')\n",
    "class human(plant,animal):\n",
    "    pass"
   ]
  },
  {
   "cell_type": "code",
   "execution_count": 99,
   "id": "3da5832d-5ec0-4082-9a6b-f35ac2d27bcf",
   "metadata": {},
   "outputs": [],
   "source": [
    "man = human()"
   ]
  },
  {
   "cell_type": "code",
   "execution_count": 104,
   "id": "48015336-1925-4934-a0f6-a6d0a5c162ce",
   "metadata": {},
   "outputs": [
    {
     "name": "stdout",
     "output_type": "stream",
     "text": [
      "plants take food from sunlight\n",
      "animal take food from plants\n"
     ]
    }
   ],
   "source": [
    "man.eat()\n",
    "man.food()"
   ]
  },
  {
   "cell_type": "markdown",
   "id": "86952d2a-6e87-453f-b27e-a91cebf56d81",
   "metadata": {},
   "source": [
    "Q4. What are getter and setter in python? Create a class and create a getter and a setter method in this\n",
    "class."
   ]
  },
  {
   "cell_type": "code",
   "execution_count": null,
   "id": "210376c6-5015-480a-b608-d50e5388a8ce",
   "metadata": {},
   "outputs": [],
   "source": [
    "Ans Getter: A method that allows you to access an attribute in a given class\n",
    "    Setter: A method that allows you to set or mutate the value of an attribute in a class"
   ]
  },
  {
   "cell_type": "code",
   "execution_count": 115,
   "id": "e2a500ed-78c4-4454-8432-cf3402a44d79",
   "metadata": {},
   "outputs": [],
   "source": [
    "class Friend:\n",
    "    def __init__(self):\n",
    "        self.job = \"None\"\n",
    "\n",
    "    def getJob(self):\n",
    "        return self.job\n",
    "\n",
    "    def setJob(self, job):\n",
    "        self.job = job"
   ]
  },
  {
   "cell_type": "code",
   "execution_count": 116,
   "id": "5e5fba2a-be48-417b-9063-e4138421f160",
   "metadata": {},
   "outputs": [],
   "source": [
    "ram = Friend()\n",
    "shyam = Friend()"
   ]
  },
  {
   "cell_type": "code",
   "execution_count": 117,
   "id": "24424d63-f193-472a-a82d-3b783f08148a",
   "metadata": {},
   "outputs": [
    {
     "data": {
      "text/plain": [
       "'None'"
      ]
     },
     "execution_count": 117,
     "metadata": {},
     "output_type": "execute_result"
    }
   ],
   "source": [
    "ram.getJob()"
   ]
  },
  {
   "cell_type": "code",
   "execution_count": 118,
   "id": "5160ef7a-165b-48f8-bc16-bf3122eda251",
   "metadata": {},
   "outputs": [
    {
     "data": {
      "text/plain": [
       "'None'"
      ]
     },
     "execution_count": 118,
     "metadata": {},
     "output_type": "execute_result"
    }
   ],
   "source": [
    "shyam.getJob()"
   ]
  },
  {
   "cell_type": "code",
   "execution_count": 119,
   "id": "9dbda230-5cd9-4138-b4c1-1318e53b8676",
   "metadata": {},
   "outputs": [],
   "source": [
    "ram.setJob('pilot')\n",
    "shyam.setJob('captain')"
   ]
  },
  {
   "cell_type": "code",
   "execution_count": 120,
   "id": "eb339378-6ba7-4a5e-b201-7021dbd429d4",
   "metadata": {},
   "outputs": [
    {
     "data": {
      "text/plain": [
       "'pilot'"
      ]
     },
     "execution_count": 120,
     "metadata": {},
     "output_type": "execute_result"
    }
   ],
   "source": [
    "ram.getJob()"
   ]
  },
  {
   "cell_type": "code",
   "execution_count": 121,
   "id": "c65ae261-c1f3-4eec-9616-5aa053ea9aa9",
   "metadata": {},
   "outputs": [
    {
     "data": {
      "text/plain": [
       "'captain'"
      ]
     },
     "execution_count": 121,
     "metadata": {},
     "output_type": "execute_result"
    }
   ],
   "source": [
    "shyam.getJob()"
   ]
  },
  {
   "cell_type": "markdown",
   "id": "1df109c1-01e5-4e13-b167-6fcb1b8b2b92",
   "metadata": {},
   "source": [
    "Q5.What is method overriding in python? Write a python code to demonstrate method overriding."
   ]
  },
  {
   "cell_type": "code",
   "execution_count": null,
   "id": "8c3da2d7-ae1d-465f-aa19-8425a919ecc1",
   "metadata": {},
   "outputs": [],
   "source": [
    "Ans. The method overriding in Python means creating two methods with the same name but differ in the\n",
    "     programming logic."
   ]
  },
  {
   "cell_type": "code",
   "execution_count": 122,
   "id": "2e8481fa-ba54-40f6-8e2b-d907e4762bea",
   "metadata": {},
   "outputs": [],
   "source": [
    "class animal:\n",
    "    def eat(self):\n",
    "        print('animal take food from plants')\n",
    "class human(animal):\n",
    "    def eat(self):\n",
    "        print('human take food from plants and animals')"
   ]
  },
  {
   "cell_type": "code",
   "execution_count": 123,
   "id": "9cef4e20-e588-4b16-ab1b-e6849e2ab8c4",
   "metadata": {},
   "outputs": [],
   "source": [
    "tiger = animal()\n",
    "ram = human()"
   ]
  },
  {
   "cell_type": "code",
   "execution_count": 124,
   "id": "356314ab-4da4-46a0-94c2-24cf26960884",
   "metadata": {},
   "outputs": [
    {
     "name": "stdout",
     "output_type": "stream",
     "text": [
      "animal take food from plants\n"
     ]
    }
   ],
   "source": [
    "tiger.eat()"
   ]
  },
  {
   "cell_type": "code",
   "execution_count": 125,
   "id": "09dbc463-80ae-45ef-aa17-79330c8e5d6c",
   "metadata": {},
   "outputs": [
    {
     "name": "stdout",
     "output_type": "stream",
     "text": [
      "human take food from plants and animals\n"
     ]
    }
   ],
   "source": [
    "ram.eat()"
   ]
  }
 ],
 "metadata": {
  "kernelspec": {
   "display_name": "Python 3 (ipykernel)",
   "language": "python",
   "name": "python3"
  },
  "language_info": {
   "codemirror_mode": {
    "name": "ipython",
    "version": 3
   },
   "file_extension": ".py",
   "mimetype": "text/x-python",
   "name": "python",
   "nbconvert_exporter": "python",
   "pygments_lexer": "ipython3",
   "version": "3.10.8"
  }
 },
 "nbformat": 4,
 "nbformat_minor": 5
}
